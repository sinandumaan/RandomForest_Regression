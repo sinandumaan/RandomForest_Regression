{
 "cells": [
  {
   "cell_type": "code",
   "execution_count": 1,
   "id": "01ae72ad",
   "metadata": {},
   "outputs": [],
   "source": [
    "# Load packages\n",
    "\n",
    "import numpy as np\n",
    "import pandas as pd\n",
    "import matplotlib.pyplot as plt\n",
    "from sklearn.model_selection import train_test_split\n",
    "from sklearn.ensemble import RandomForestRegressor\n",
    "from sklearn.model_selection import RandomizedSearchCV\n",
    "from sklearn import metrics"
   ]
  },
  {
   "cell_type": "code",
   "execution_count": 3,
   "id": "96dc1a47",
   "metadata": {},
   "outputs": [
    {
     "data": {
      "text/html": [
       "<div>\n",
       "<style scoped>\n",
       "    .dataframe tbody tr th:only-of-type {\n",
       "        vertical-align: middle;\n",
       "    }\n",
       "\n",
       "    .dataframe tbody tr th {\n",
       "        vertical-align: top;\n",
       "    }\n",
       "\n",
       "    .dataframe thead th {\n",
       "        text-align: right;\n",
       "    }\n",
       "</style>\n",
       "<table border=\"1\" class=\"dataframe\">\n",
       "  <thead>\n",
       "    <tr style=\"text-align: right;\">\n",
       "      <th></th>\n",
       "      <th>Rented Bike Count</th>\n",
       "      <th>Hour</th>\n",
       "      <th>Temperature(C)</th>\n",
       "      <th>Humidity(%)</th>\n",
       "      <th>Wind speed (m/s)</th>\n",
       "      <th>Visibility (10m)</th>\n",
       "      <th>Dew point temperature(°C)</th>\n",
       "      <th>Solar Radiation (MJ/m2)</th>\n",
       "      <th>Rainfall(mm)</th>\n",
       "      <th>Snowfall (cm)</th>\n",
       "      <th>Holiday</th>\n",
       "      <th>Month</th>\n",
       "      <th>Week</th>\n",
       "      <th>Dayofweek</th>\n",
       "    </tr>\n",
       "  </thead>\n",
       "  <tbody>\n",
       "    <tr>\n",
       "      <th>0</th>\n",
       "      <td>254</td>\n",
       "      <td>0</td>\n",
       "      <td>-5.2</td>\n",
       "      <td>37</td>\n",
       "      <td>2.2</td>\n",
       "      <td>2000</td>\n",
       "      <td>-17.6</td>\n",
       "      <td>0.0</td>\n",
       "      <td>0.0</td>\n",
       "      <td>0.0</td>\n",
       "      <td>0</td>\n",
       "      <td>1</td>\n",
       "      <td>2</td>\n",
       "      <td>3</td>\n",
       "    </tr>\n",
       "    <tr>\n",
       "      <th>1</th>\n",
       "      <td>204</td>\n",
       "      <td>1</td>\n",
       "      <td>-5.5</td>\n",
       "      <td>38</td>\n",
       "      <td>0.8</td>\n",
       "      <td>2000</td>\n",
       "      <td>-17.6</td>\n",
       "      <td>0.0</td>\n",
       "      <td>0.0</td>\n",
       "      <td>0.0</td>\n",
       "      <td>0</td>\n",
       "      <td>1</td>\n",
       "      <td>2</td>\n",
       "      <td>3</td>\n",
       "    </tr>\n",
       "    <tr>\n",
       "      <th>2</th>\n",
       "      <td>173</td>\n",
       "      <td>2</td>\n",
       "      <td>-6.0</td>\n",
       "      <td>39</td>\n",
       "      <td>1.0</td>\n",
       "      <td>2000</td>\n",
       "      <td>-17.7</td>\n",
       "      <td>0.0</td>\n",
       "      <td>0.0</td>\n",
       "      <td>0.0</td>\n",
       "      <td>0</td>\n",
       "      <td>1</td>\n",
       "      <td>2</td>\n",
       "      <td>3</td>\n",
       "    </tr>\n",
       "    <tr>\n",
       "      <th>3</th>\n",
       "      <td>107</td>\n",
       "      <td>3</td>\n",
       "      <td>-6.2</td>\n",
       "      <td>40</td>\n",
       "      <td>0.9</td>\n",
       "      <td>2000</td>\n",
       "      <td>-17.6</td>\n",
       "      <td>0.0</td>\n",
       "      <td>0.0</td>\n",
       "      <td>0.0</td>\n",
       "      <td>0</td>\n",
       "      <td>1</td>\n",
       "      <td>2</td>\n",
       "      <td>3</td>\n",
       "    </tr>\n",
       "    <tr>\n",
       "      <th>4</th>\n",
       "      <td>78</td>\n",
       "      <td>4</td>\n",
       "      <td>-6.0</td>\n",
       "      <td>36</td>\n",
       "      <td>2.3</td>\n",
       "      <td>2000</td>\n",
       "      <td>-18.6</td>\n",
       "      <td>0.0</td>\n",
       "      <td>0.0</td>\n",
       "      <td>0.0</td>\n",
       "      <td>0</td>\n",
       "      <td>1</td>\n",
       "      <td>2</td>\n",
       "      <td>3</td>\n",
       "    </tr>\n",
       "  </tbody>\n",
       "</table>\n",
       "</div>"
      ],
      "text/plain": [
       "   Rented Bike Count  Hour  Temperature(C)  Humidity(%)  Wind speed (m/s)  \\\n",
       "0                254     0            -5.2           37               2.2   \n",
       "1                204     1            -5.5           38               0.8   \n",
       "2                173     2            -6.0           39               1.0   \n",
       "3                107     3            -6.2           40               0.9   \n",
       "4                 78     4            -6.0           36               2.3   \n",
       "\n",
       "   Visibility (10m)  Dew point temperature(°C)  Solar Radiation (MJ/m2)  \\\n",
       "0              2000                      -17.6                      0.0   \n",
       "1              2000                      -17.6                      0.0   \n",
       "2              2000                      -17.7                      0.0   \n",
       "3              2000                      -17.6                      0.0   \n",
       "4              2000                      -18.6                      0.0   \n",
       "\n",
       "   Rainfall(mm)  Snowfall (cm)  Holiday  Month  Week  Dayofweek  \n",
       "0           0.0            0.0        0      1     2          3  \n",
       "1           0.0            0.0        0      1     2          3  \n",
       "2           0.0            0.0        0      1     2          3  \n",
       "3           0.0            0.0        0      1     2          3  \n",
       "4           0.0            0.0        0      1     2          3  "
      ]
     },
     "execution_count": 3,
     "metadata": {},
     "output_type": "execute_result"
    }
   ],
   "source": [
    "# Load the data\n",
    "\n",
    "df = pd.read_csv(\"SeoulBikeData.csv\")\n",
    "df.head()"
   ]
  },
  {
   "cell_type": "code",
   "execution_count": 4,
   "id": "1516a3c1",
   "metadata": {},
   "outputs": [
    {
     "data": {
      "text/plain": [
       "(8760, 14)"
      ]
     },
     "execution_count": 4,
     "metadata": {},
     "output_type": "execute_result"
    }
   ],
   "source": [
    "df.shape"
   ]
  },
  {
   "cell_type": "code",
   "execution_count": 5,
   "id": "a46221a3",
   "metadata": {},
   "outputs": [
    {
     "name": "stdout",
     "output_type": "stream",
     "text": [
      "<class 'pandas.core.frame.DataFrame'>\n",
      "RangeIndex: 8760 entries, 0 to 8759\n",
      "Data columns (total 14 columns):\n",
      " #   Column                     Non-Null Count  Dtype  \n",
      "---  ------                     --------------  -----  \n",
      " 0   Rented Bike Count          8760 non-null   int64  \n",
      " 1   Hour                       8760 non-null   int64  \n",
      " 2   Temperature(C)             8760 non-null   float64\n",
      " 3   Humidity(%)                8760 non-null   int64  \n",
      " 4   Wind speed (m/s)           8760 non-null   float64\n",
      " 5   Visibility (10m)           8760 non-null   int64  \n",
      " 6   Dew point temperature(°C)  8760 non-null   float64\n",
      " 7   Solar Radiation (MJ/m2)    8760 non-null   float64\n",
      " 8   Rainfall(mm)               8760 non-null   float64\n",
      " 9   Snowfall (cm)              8760 non-null   float64\n",
      " 10  Holiday                    8760 non-null   int64  \n",
      " 11  Month                      8760 non-null   int64  \n",
      " 12  Week                       8760 non-null   int64  \n",
      " 13  Dayofweek                  8760 non-null   int64  \n",
      "dtypes: float64(6), int64(8)\n",
      "memory usage: 958.2 KB\n"
     ]
    }
   ],
   "source": [
    "df.info()"
   ]
  },
  {
   "cell_type": "code",
   "execution_count": 6,
   "id": "5ce6bc9f",
   "metadata": {},
   "outputs": [
    {
     "data": {
      "text/plain": [
       "Rented Bike Count            0\n",
       "Hour                         0\n",
       "Temperature(C)               0\n",
       "Humidity(%)                  0\n",
       "Wind speed (m/s)             0\n",
       "Visibility (10m)             0\n",
       "Dew point temperature(°C)    0\n",
       "Solar Radiation (MJ/m2)      0\n",
       "Rainfall(mm)                 0\n",
       "Snowfall (cm)                0\n",
       "Holiday                      0\n",
       "Month                        0\n",
       "Week                         0\n",
       "Dayofweek                    0\n",
       "dtype: int64"
      ]
     },
     "execution_count": 6,
     "metadata": {},
     "output_type": "execute_result"
    }
   ],
   "source": [
    "df.isnull().sum()"
   ]
  },
  {
   "cell_type": "code",
   "execution_count": 7,
   "id": "60736928",
   "metadata": {},
   "outputs": [],
   "source": [
    "# Split the data into two DataFrames: X (features) and y (target variable)\n",
    "\n",
    "X = df.iloc[:, 1:]  # Specify at least one column as a feature\n",
    "y = df[\"Rented Bike Count\"]  # Specify one column as the target variable"
   ]
  },
  {
   "cell_type": "code",
   "execution_count": 8,
   "id": "9148cecb",
   "metadata": {},
   "outputs": [],
   "source": [
    "# Split the data into train and test subsets\n",
    "# Adjust the test size and random state\n",
    "\n",
    "X_train, X_test, y_train, y_test = train_test_split(\n",
    "    X, y, test_size=0.20, random_state=13)"
   ]
  },
  {
   "cell_type": "code",
   "execution_count": 9,
   "id": "817a5f08",
   "metadata": {},
   "outputs": [
    {
     "data": {
      "text/plain": [
       "((7008, 13), (1752, 13), (7008,), (1752,))"
      ]
     },
     "execution_count": 9,
     "metadata": {},
     "output_type": "execute_result"
    }
   ],
   "source": [
    "X_train.shape, X_test.shape, y_train.shape, y_test.shape"
   ]
  },
  {
   "cell_type": "code",
   "execution_count": 10,
   "id": "bd7e8c41",
   "metadata": {},
   "outputs": [],
   "source": [
    "# Define parameters: these will need to be tuned to prevent overfitting and underfitting\n",
    "\n",
    "params = {\n",
    "    \"n_estimators\": 100,  # Number of trees in the forest\n",
    "    \"max_depth\": 10,  # Max depth of the tree\n",
    "    \"min_samples_split\": 4,  # Min number of samples required to split a node\n",
    "    \"min_samples_leaf\": 2,  # Min number of samples required at a leaf node\n",
    "    \"ccp_alpha\": 0,  # Cost complexity parameter for pruning\n",
    "    \"random_state\": 123,\n",
    "}\n",
    "\n",
    "# Create a RandomForestRegressor object with the parameters above\n",
    "\n",
    "rf = RandomForestRegressor(**params)"
   ]
  },
  {
   "cell_type": "code",
   "execution_count": 11,
   "id": "21a6b364",
   "metadata": {},
   "outputs": [],
   "source": [
    "# Train the random forest on the train set\n",
    "\n",
    "rf = rf.fit(X_train, y_train)"
   ]
  },
  {
   "cell_type": "code",
   "execution_count": 12,
   "id": "6e6a332d",
   "metadata": {},
   "outputs": [
    {
     "data": {
      "text/plain": [
       "array([ 292.46443837, 1175.59121481,  537.11062829, ...,  569.03386724,\n",
       "        949.86808847,  938.5899868 ])"
      ]
     },
     "execution_count": 12,
     "metadata": {},
     "output_type": "execute_result"
    }
   ],
   "source": [
    "# Predict the outcomes on the test set\n",
    "\n",
    "y_pred = rf.predict(X_test)\n",
    "y_pred"
   ]
  },
  {
   "cell_type": "code",
   "execution_count": 13,
   "id": "2920039f",
   "metadata": {},
   "outputs": [
    {
     "name": "stdout",
     "output_type": "stream",
     "text": [
      "Mean Absolute Error: 168.5730169335061\n",
      "Mean Squared Error: 85344.593930353\n",
      "Root Mean Squared Error: 292.13797070965114\n"
     ]
    }
   ],
   "source": [
    "# Evaluate performance with error metrics\n",
    "\n",
    "print(\"Mean Absolute Error:\", metrics.mean_absolute_error(y_test, y_pred))\n",
    "print(\"Mean Squared Error:\", metrics.mean_squared_error(y_test, y_pred))\n",
    "print(\"Root Mean Squared Error:\", np.sqrt(metrics.mean_squared_error(y_test, y_pred)))"
   ]
  },
  {
   "cell_type": "code",
   "execution_count": 14,
   "id": "3bd3c7e1",
   "metadata": {},
   "outputs": [
    {
     "data": {
      "image/png": "[encoded data removed]",
      "text/plain": [
       "<Figure size 640x480 with 1 Axes>"
      ]
     },
     "metadata": {},
     "output_type": "display_data"
    }
   ],
   "source": [
    "# In RandomForestRegressor, there is a property called feature_importances_ which holds the Gini importance of each feature (the higher this value, the more important the feature). We can list and plot feature_importances_ to see which features influence predictions most.\n",
    "\n",
    "# Create a sorted Series of features importances\n",
    "\n",
    "importances_sorted = pd.Series(\n",
    "    data=rf.feature_importances_, index=X_train.columns\n",
    ").sort_values()\n",
    "\n",
    "# Plot a horizontal barplot of importances_sorted\n",
    "importances_sorted.plot(kind=\"barh\")\n",
    "plt.title(\"Features Importances\")\n",
    "plt.show()"
   ]
  },
  {
   "cell_type": "code",
   "execution_count": 15,
   "id": "8cdacee7",
   "metadata": {},
   "outputs": [],
   "source": [
    "# Hyperparameter tuning with Random Search\n",
    "\n",
    "# Define a parameter grid with distributions of possible parameters to use\n",
    "\n",
    "rs_param_grid = {\n",
    "    \"n_estimators\": list((range(20, 200))),\n",
    "    \"max_depth\": list((range(3, 12))),\n",
    "    \"min_samples_split\": list((range(2, 5))),\n",
    "    \"min_samples_leaf\": list((range(1, 5))),\n",
    "    \"ccp_alpha\": [0, 0.001, 0.01, 0.1],\n",
    "}\n",
    "\n",
    "# Create a RandomForestRegressor\n",
    "\n",
    "rf = RandomForestRegressor(random_state=13)"
   ]
  },
  {
   "cell_type": "code",
   "execution_count": 16,
   "id": "fd8a2d68",
   "metadata": {},
   "outputs": [],
   "source": [
    "# Instantiate RandomizedSearchCV() with rf and the parameter grid\n",
    "\n",
    "rf_rs = RandomizedSearchCV(\n",
    "    estimator=rf,\n",
    "    param_distributions=rs_param_grid,\n",
    "    cv=3,  # Number of folds\n",
    "    n_iter=10,  # Number of parameter candidate settings to sample\n",
    "    verbose=2,  # The higher this is, the more messages are outputed\n",
    "    scoring=\"neg_mean_absolute_error\",  # Metric to evaluate performance\n",
    "    random_state=13\n",
    ")"
   ]
  },
  {
   "cell_type": "code",
   "execution_count": 17,
   "id": "52e71fb3",
   "metadata": {},
   "outputs": [
    {
     "name": "stdout",
     "output_type": "stream",
     "text": [
      "Fitting 3 folds for each of 10 candidates, totalling 30 fits\n",
      "[CV] END ccp_alpha=0.01, max_depth=6, min_samples_leaf=4, min_samples_split=3, n_estimators=140; total time=   1.2s\n",
      "[CV] END ccp_alpha=0.01, max_depth=6, min_samples_leaf=4, min_samples_split=3, n_estimators=140; total time=   1.2s\n",
      "[CV] END ccp_alpha=0.01, max_depth=6, min_samples_leaf=4, min_samples_split=3, n_estimators=140; total time=   1.2s\n",
      "[CV] END ccp_alpha=0.001, max_depth=9, min_samples_leaf=3, min_samples_split=2, n_estimators=174; total time=   2.2s\n",
      "[CV] END ccp_alpha=0.001, max_depth=9, min_samples_leaf=3, min_samples_split=2, n_estimators=174; total time=   2.4s\n",
      "[CV] END ccp_alpha=0.001, max_depth=9, min_samples_leaf=3, min_samples_split=2, n_estimators=174; total time=   2.3s\n",
      "[CV] END ccp_alpha=0.1, max_depth=6, min_samples_leaf=2, min_samples_split=3, n_estimators=189; total time=   1.6s\n",
      "[CV] END ccp_alpha=0.1, max_depth=6, min_samples_leaf=2, min_samples_split=3, n_estimators=189; total time=   1.6s\n",
      "[CV] END ccp_alpha=0.1, max_depth=6, min_samples_leaf=2, min_samples_split=3, n_estimators=189; total time=   1.6s\n",
      "[CV] END ccp_alpha=0.001, max_depth=5, min_samples_leaf=3, min_samples_split=4, n_estimators=144; total time=   1.1s\n",
      "[CV] END ccp_alpha=0.001, max_depth=5, min_samples_leaf=3, min_samples_split=4, n_estimators=144; total time=   1.1s\n",
      "[CV] END ccp_alpha=0.001, max_depth=5, min_samples_leaf=3, min_samples_split=4, n_estimators=144; total time=   1.1s\n",
      "[CV] END ccp_alpha=0.001, max_depth=11, min_samples_leaf=1, min_samples_split=2, n_estimators=94; total time=   1.4s\n",
      "[CV] END ccp_alpha=0.001, max_depth=11, min_samples_leaf=1, min_samples_split=2, n_estimators=94; total time=   1.4s\n",
      "[CV] END ccp_alpha=0.001, max_depth=11, min_samples_leaf=1, min_samples_split=2, n_estimators=94; total time=   1.6s\n",
      "[CV] END ccp_alpha=0.01, max_depth=11, min_samples_leaf=4, min_samples_split=4, n_estimators=146; total time=   2.2s\n",
      "[CV] END ccp_alpha=0.01, max_depth=11, min_samples_leaf=4, min_samples_split=4, n_estimators=146; total time=   2.4s\n",
      "[CV] END ccp_alpha=0.01, max_depth=11, min_samples_leaf=4, min_samples_split=4, n_estimators=146; total time=   2.1s\n",
      "[CV] END ccp_alpha=0, max_depth=9, min_samples_leaf=2, min_samples_split=2, n_estimators=76; total time=   1.0s\n",
      "[CV] END ccp_alpha=0, max_depth=9, min_samples_leaf=2, min_samples_split=2, n_estimators=76; total time=   0.9s\n",
      "[CV] END ccp_alpha=0, max_depth=9, min_samples_leaf=2, min_samples_split=2, n_estimators=76; total time=   0.9s\n",
      "[CV] END ccp_alpha=0.01, max_depth=10, min_samples_leaf=4, min_samples_split=3, n_estimators=154; total time=   2.1s\n",
      "[CV] END ccp_alpha=0.01, max_depth=10, min_samples_leaf=4, min_samples_split=3, n_estimators=154; total time=   2.1s\n",
      "[CV] END ccp_alpha=0.01, max_depth=10, min_samples_leaf=4, min_samples_split=3, n_estimators=154; total time=   2.1s\n",
      "[CV] END ccp_alpha=0.1, max_depth=3, min_samples_leaf=2, min_samples_split=4, n_estimators=130; total time=   0.6s\n",
      "[CV] END ccp_alpha=0.1, max_depth=3, min_samples_leaf=2, min_samples_split=4, n_estimators=130; total time=   0.6s\n",
      "[CV] END ccp_alpha=0.1, max_depth=3, min_samples_leaf=2, min_samples_split=4, n_estimators=130; total time=   0.6s\n",
      "[CV] END ccp_alpha=0.1, max_depth=5, min_samples_leaf=4, min_samples_split=2, n_estimators=190; total time=   1.4s\n",
      "[CV] END ccp_alpha=0.1, max_depth=5, min_samples_leaf=4, min_samples_split=2, n_estimators=190; total time=   1.4s\n",
      "[CV] END ccp_alpha=0.1, max_depth=5, min_samples_leaf=4, min_samples_split=2, n_estimators=190; total time=   1.4s\n"
     ]
    },
    {
     "data": {
      "text/plain": [
       "RandomizedSearchCV(cv=3, estimator=RandomForestRegressor(random_state=13),\n",
       "                   param_distributions={'ccp_alpha': [0, 0.001, 0.01, 0.1],\n",
       "                                        'max_depth': [3, 4, 5, 6, 7, 8, 9, 10,\n",
       "                                                      11],\n",
       "                                        'min_samples_leaf': [1, 2, 3, 4],\n",
       "                                        'min_samples_split': [2, 3, 4],\n",
       "                                        'n_estimators': [20, 21, 22, 23, 24, 25,\n",
       "                                                         26, 27, 28, 29, 30, 31,\n",
       "                                                         32, 33, 34, 35, 36, 37,\n",
       "                                                         38, 39, 40, 41, 42, 43,\n",
       "                                                         44, 45, 46, 47, 48, 49, ...]},\n",
       "                   random_state=13, scoring='neg_mean_absolute_error',\n",
       "                   verbose=2)"
      ]
     },
     "execution_count": 17,
     "metadata": {},
     "output_type": "execute_result"
    }
   ],
   "source": [
    "# Train the model on the training set\n",
    "\n",
    "rf_rs.fit(X_train, y_train)"
   ]
  },
  {
   "cell_type": "code",
   "execution_count": 18,
   "id": "5939351f",
   "metadata": {},
   "outputs": [
    {
     "name": "stdout",
     "output_type": "stream",
     "text": [
      "Best parameters found:  {'n_estimators': 94, 'min_samples_split': 2, 'min_samples_leaf': 1, 'max_depth': 11, 'ccp_alpha': 0.001}\n",
      "Best performance:  -168.9036149349852\n"
     ]
    }
   ],
   "source": [
    "# Print the best parameters and highest accuracy\n",
    "\n",
    "print(\"Best parameters found: \", rf_rs.best_params_)\n",
    "print(\"Best performance: \", rf_rs.best_score_)"
   ]
  }
 ],
 "metadata": {
  "kernelspec": {
   "display_name": "Python 3 (ipykernel)",
   "language": "python",
   "name": "python3"
  },
  "language_info": {
   "codemirror_mode": {
    "name": "ipython",
    "version": 3
   },
   "file_extension": ".py",
   "mimetype": "text/x-python",
   "name": "python",
   "nbconvert_exporter": "python",
   "pygments_lexer": "ipython3",
   "version": "3.9.13"
  }
 },
 "nbformat": 4,
 "nbformat_minor": 5
}
